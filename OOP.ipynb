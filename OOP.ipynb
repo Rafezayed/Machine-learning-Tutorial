{
 "cells": [
  {
   "cell_type": "code",
   "execution_count": 2,
   "metadata": {},
   "outputs": [],
   "source": [
    "#Creating a simple class"
   ]
  },
  {
   "cell_type": "code",
   "execution_count": 3,
   "metadata": {},
   "outputs": [
    {
     "name": "stdout",
     "output_type": "stream",
     "text": [
      "student name: rafe roll 76 total student 1000\n",
      "national\n"
     ]
    }
   ],
   "source": [
    "class student:\n",
    "    name='rafe'                             #attribute\n",
    "    roll=76                                 #attribute\n",
    "    country='Bangladesh'                    #attribute\n",
    "    total=1000\n",
    "    \n",
    "    def info():                             #method\n",
    "        print('student name:',student.name,'roll',student.roll,'total student',student.total)\n",
    "        \n",
    "    def status():                           #method\n",
    "        if student.country is not 'Bangladesh':\n",
    "            print(\"foreign\")\n",
    "        else:\n",
    "            print(\"national\")\n",
    "\n",
    "student.name\n",
    "student.roll\n",
    "student.country\n",
    "student.info()\n",
    "student.status()\n"
   ]
  },
  {
   "cell_type": "code",
   "execution_count": 4,
   "metadata": {},
   "outputs": [
    {
     "name": "stdout",
     "output_type": "stream",
     "text": [
      "foreign\n"
     ]
    }
   ],
   "source": [
    "#creating the attribute outside of the class\n",
    "student.country=\"india\"\n",
    "student.status()"
   ]
  },
  {
   "cell_type": "code",
   "execution_count": 9,
   "metadata": {},
   "outputs": [
    {
     "name": "stdout",
     "output_type": "stream",
     "text": [
      "foreign\n"
     ]
    }
   ],
   "source": [
    "#creating instance\n",
    "class student:\n",
    "    total=1000\n",
    "    def __init__(self,name,roll,country):\n",
    "        self.name=name\n",
    "        self.roll=roll\n",
    "        self.country=country\n",
    "    def info(self):                             \n",
    "        print('student name:',self.name,'roll',self.roll,'total student',student.total)\n",
    "        \n",
    "    def status(self):                           \n",
    "        if self.country is not 'Bangladesh':\n",
    "            print(\"foreign\")\n",
    "        else:\n",
    "            print(\"national\")\n",
    "\n",
    "a=student('rafe',76,'India')\n",
    "a.status()\n",
    "    "
   ]
  },
  {
   "cell_type": "code",
   "execution_count": 6,
   "metadata": {},
   "outputs": [
    {
     "name": "stdout",
     "output_type": "stream",
     "text": [
      "student name: rafe roll 76 total student 1000\n",
      "thesis on thermodynamics\n"
     ]
    }
   ],
   "source": [
    "#creating inheritence\n",
    "class mechanical(student):\n",
    "    def __init__(self,name,roll,thesis):\n",
    "        self.name=name\n",
    "        self.roll=roll\n",
    "        self.thesis=thesis\n",
    "    def thesison(self):\n",
    "        self.info()\n",
    "        print('thesis on',self.thesis)\n",
    "a=mechanical('rafe',76,'thermodynamics')\n",
    "a.thesison()"
   ]
  },
  {
   "cell_type": "code",
   "execution_count": null,
   "metadata": {},
   "outputs": [],
   "source": []
  },
  {
   "cell_type": "code",
   "execution_count": null,
   "metadata": {},
   "outputs": [],
   "source": []
  }
 ],
 "metadata": {
  "kernelspec": {
   "display_name": "Python 3",
   "language": "python",
   "name": "python3"
  },
  "language_info": {
   "codemirror_mode": {
    "name": "ipython",
    "version": 3
   },
   "file_extension": ".py",
   "mimetype": "text/x-python",
   "name": "python",
   "nbconvert_exporter": "python",
   "pygments_lexer": "ipython3",
   "version": "3.7.6"
  }
 },
 "nbformat": 4,
 "nbformat_minor": 4
}
